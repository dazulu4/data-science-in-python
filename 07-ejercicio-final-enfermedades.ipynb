{
 "cells": [
  {
   "cell_type": "markdown",
   "id": "81d6fb12",
   "metadata": {},
   "source": [
    "Ejercicio Final: Conjunto de Datos Enfermedades\n",
    "===\n",
    "\n",
    "Realice las siguientes actividades y documéntelas usando markdown. \n",
    "\n",
    "* Cargue el archivo enfermedades.csv que esta en la carpeta *files*\n",
    "* Para la columna 'Age Group' ¿cuántos grupos diferentes hay?\n",
    "* ¿Cuántos registros hay para el año 1970?\n",
    "* Obtenga una lista (sin repetir) de los países ordenada alfabéticamente.\n",
    "* Extraiga los registros para los cuales 'Sex' es igual a 'Male'\n",
    "* Cuánto suma la columna 'Number of Deaths' para el año 1970.\n",
    "* Imprima una tabla en que aparece el año y el total de muertes por año.\n",
    "* Imprima una lista en que aparezca el código de cada país y el nombre correspondiente.\n",
    "* Haga un gráfico de barras en que se muestre el año y el total de muertes por año."
   ]
  },
  {
   "cell_type": "code",
   "execution_count": null,
   "id": "71b73589",
   "metadata": {},
   "outputs": [],
   "source": []
  }
 ],
 "metadata": {
  "kernelspec": {
   "display_name": "Python 3 (ipykernel)",
   "language": "python",
   "name": "python3"
  },
  "language_info": {
   "codemirror_mode": {
    "name": "ipython",
    "version": 3
   },
   "file_extension": ".py",
   "mimetype": "text/x-python",
   "name": "python",
   "nbconvert_exporter": "python",
   "pygments_lexer": "ipython3",
   "version": "3.8.12"
  }
 },
 "nbformat": 4,
 "nbformat_minor": 5
}
