{
 "cells": [
  {
   "cell_type": "markdown",
   "metadata": {},
   "source": [
    "Visualización de datos\n",
    "==="
   ]
  },
  {
   "cell_type": "markdown",
   "metadata": {},
   "source": [
    "#### Contenido"
   ]
  },
  {
   "cell_type": "markdown",
   "metadata": {},
   "source": [
    "> * [Matplotlib](#Matplotlib)\n",
    "> * [Seaborn](#Seaborn)"
   ]
  },
  {
   "cell_type": "markdown",
   "metadata": {},
   "source": [
    "# Matplotlib"
   ]
  },
  {
   "cell_type": "markdown",
   "metadata": {},
   "source": [
    "[Contenido](#Contenido)"
   ]
  },
  {
   "cell_type": "markdown",
   "metadata": {},
   "source": [
    "Existen varios recursos externos para el aprendizaje de matpotlib. Algunos son listados [aquí](http://matplotlib.org/resources/index.html).\n",
    "\n",
    "[Aquí](http://nbviewer.jupyter.org/github/jrjohansson/scientific-python-lectures/blob/master/Lecture-4-Matplotlib.ipynb) hay un tutorial escrito en Jupyter sobre matplotlib que ilustra como resolver muchos problemas comunes en la elaboración de gráficos. \n",
    "\n",
    "A continuación hay varios ejemplos autoexplicativos que tienen como fin ilustrar rápidamente las capacidades básicas de matplotlib. \n",
    "\n",
    "Para manejar la librería, usualmente se define el tipo de gráfico que se necesita y se buscan ejemplos con características similares en la [galería](http://matplotlib.org/gallery.html). "
   ]
  },
  {
   "cell_type": "code",
   "execution_count": null,
   "metadata": {},
   "outputs": [],
   "source": [
    "%matplotlib inline"
   ]
  },
  {
   "cell_type": "code",
   "execution_count": null,
   "metadata": {},
   "outputs": [],
   "source": [
    "import numpy as np\n",
    "import matplotlib.pyplot as plt\n",
    "import matplotlib as mpl"
   ]
  },
  {
   "cell_type": "code",
   "execution_count": null,
   "metadata": {},
   "outputs": [],
   "source": [
    "x = range(100)\n",
    "y = [value ** 2 for value in x]\n",
    "plt.plot(x, y)\n",
    "plt.show()"
   ]
  },
  {
   "cell_type": "code",
   "execution_count": null,
   "metadata": {},
   "outputs": [],
   "source": [
    "import math\n",
    "T = range(100)\n",
    "X = [(2 * math.pi * t) / len(T) for t in T]\n",
    "Y = [math.sin(value) for value in X]\n",
    "plt.plot(X, Y)"
   ]
  },
  {
   "cell_type": "code",
   "execution_count": null,
   "metadata": {},
   "outputs": [],
   "source": [
    "data = [5., 25., 50., 20.]\n",
    "plt.bar(range(len(data)), data)\n",
    "plt.show()"
   ]
  },
  {
   "cell_type": "code",
   "execution_count": null,
   "metadata": {},
   "outputs": [],
   "source": [
    "data = [5., 25., 50., 20.]\n",
    "plt.barh(range(len(data)), data)\n",
    "plt.show()"
   ]
  },
  {
   "cell_type": "code",
   "execution_count": null,
   "metadata": {},
   "outputs": [],
   "source": [
    "data = [[5., 25., 50., 20.],\n",
    "        [4., 23., 51., 17.],\n",
    "        [6., 22., 52., 19.]]\n",
    "X = np.arange(4)\n",
    "plt.bar(X + 0.00, data[0], color = 'b', width = 0.25)\n",
    "plt.bar(X + 0.25, data[1], color = 'g', width = 0.25)\n",
    "plt.bar(X + 0.50, data[2], color = 'r', width = 0.25)\n",
    "plt.show()"
   ]
  },
  {
   "cell_type": "code",
   "execution_count": null,
   "metadata": {},
   "outputs": [],
   "source": [
    "mu, sigma = 1, 0.1 # mean and standard deviation\n",
    "X = np.random.normal(mu, sigma, 1000)\n",
    "plt.hist(X, bins = 50)\n",
    "plt.show()"
   ]
  },
  {
   "cell_type": "code",
   "execution_count": null,
   "metadata": {},
   "outputs": [],
   "source": [
    "X = np.random.randn(1000)\n",
    "plt.hist(X, bins = 50)\n",
    "plt.show()"
   ]
  },
  {
   "cell_type": "code",
   "execution_count": null,
   "metadata": {},
   "outputs": [],
   "source": [
    "data = np.random.randn(100)\n",
    "plt.boxplot(data)\n",
    "plt.show()"
   ]
  },
  {
   "cell_type": "code",
   "execution_count": null,
   "metadata": {},
   "outputs": [],
   "source": [
    "data = np.random.randn(100, 5)\n",
    "plt.boxplot(data)\n",
    "plt.show()"
   ]
  },
  {
   "cell_type": "code",
   "execution_count": null,
   "metadata": {},
   "outputs": [],
   "source": [
    "import numpy as np\n",
    "import matplotlib.pyplot as plt\n",
    "import matplotlib.tri as tri\n",
    "data = np.random.rand(100, 2)\n",
    "triangles = tri.Triangulation(data[:,0], data[:,1])\n",
    "plt.triplot(triangles)\n",
    "plt.show()"
   ]
  },
  {
   "cell_type": "code",
   "execution_count": null,
   "metadata": {},
   "outputs": [],
   "source": [
    "import numpy as np\n",
    "import matplotlib.pyplot as plt\n",
    "A = np.random.standard_normal((100, 2))\n",
    "A += np.array((-1, -1)) # Center the distrib. at <-1, -1>\n",
    "B = np.random.standard_normal((100, 2))\n",
    "B += np.array((1, 1)) # Center the distrib. at <1, 1>\n",
    "plt.scatter(A[:,0], A[:,1], color = '.25')\n",
    "plt.scatter(B[:,0], B[:,1], color = '.75')\n",
    "plt.show()"
   ]
  },
  {
   "cell_type": "markdown",
   "metadata": {},
   "source": [
    "---"
   ]
  },
  {
   "cell_type": "markdown",
   "metadata": {},
   "source": [
    "**Ejercicio.** Construya una gráfica similar a la siguiente usando el archivo `indicadores-mundiales.csv`. Se grafica la suma del porcetaje de la población por regiones.\n",
    "\n",
    "![alt text](images/suma-pob-region-edades-1.png)"
   ]
  },
  {
   "cell_type": "markdown",
   "metadata": {},
   "source": [
    "**Ejercicio.** Construya una gráfica similar a la siguiente usando el archivo `indicadores-mundiales.csv`. Se grafica la suma del porcetaje de la población por regiones.\n",
    "\n",
    "<img src=\"images/suma-pob-region-edades-2.png\" width=700>"
   ]
  },
  {
   "cell_type": "markdown",
   "metadata": {},
   "source": [
    "**Ejercicio.** Construya una gráfica similar a la siguiente usando el archivo `indicadores-mundiales.csv`. Se grafica la suma del porcetaje de la población por regiones.\n",
    "\n",
    "<img src=\"images/suma-pob-region-edades-3.png\" width=600>"
   ]
  },
  {
   "cell_type": "markdown",
   "metadata": {},
   "source": [
    "**Ejercicio.** Construya una gráfica similar a la siguiente usando el archivo `indicadores-mundiales.csv`. Promedio de gastos per capita por año.\n",
    "\n",
    "<img src=\"images/prom-gastos-salud-per-capita-ano.png\" width=400>"
   ]
  },
  {
   "cell_type": "markdown",
   "metadata": {
    "collapsed": true
   },
   "source": [
    "# Seaborn"
   ]
  },
  {
   "cell_type": "markdown",
   "metadata": {},
   "source": [
    "[Contenido](#Contenido)"
   ]
  },
  {
   "cell_type": "markdown",
   "metadata": {},
   "source": [
    "> [seaborn](https://seaborn.pydata.org/index.html)"
   ]
  },
  {
   "cell_type": "markdown",
   "metadata": {},
   "source": [
    "Seaborn es una biblioteca de visualización de datos de Python basada en matplotlib. Proporciona una interfaz de alto nivel para dibujar gráficos estadísticos atractivos e informativos.\n",
    "\n",
    "```\n",
    "pip install seaborn\n",
    "```\n",
    "\n",
    "El sitio web del paquete ofrece ejemplos y material sobre el uso de la librería.\n",
    "\n",
    "Ejecute el siguiente ejemplo para verificar que la librería funciona correctamente."
   ]
  },
  {
   "cell_type": "code",
   "execution_count": null,
   "metadata": {},
   "outputs": [],
   "source": [
    "%matplotlib inline"
   ]
  },
  {
   "cell_type": "code",
   "execution_count": null,
   "metadata": {},
   "outputs": [],
   "source": [
    "import seaborn as sns\n",
    "sns.set(style=\"darkgrid\", palette=\"deep\")\n",
    "\n",
    "import warnings # current version of seaborn generates a bunch of warnings that we'll ignore\n",
    "warnings.filterwarnings(\"ignore\")\n",
    "\n",
    "import numpy as np\n",
    "import pandas as pd\n",
    "\n",
    "from pandas.plotting import radviz\n",
    "from pandas.plotting import parallel_coordinates"
   ]
  },
  {
   "cell_type": "code",
   "execution_count": null,
   "metadata": {},
   "outputs": [],
   "source": [
    "np.random.seed(0)\n",
    "x = np.random.randn(100)\n",
    "\n",
    "sns.distplot(x)"
   ]
  },
  {
   "cell_type": "code",
   "execution_count": null,
   "metadata": {},
   "outputs": [],
   "source": [
    "from scipy.stats import norm\n",
    "\n",
    "sns.distplot(x, fit=norm, kde=True)"
   ]
  },
  {
   "cell_type": "code",
   "execution_count": null,
   "metadata": {},
   "outputs": [],
   "source": [
    "x = range(100)\n",
    "y = [value ** 2 for value in x]\n",
    "\n",
    "sns.lineplot(x, y)"
   ]
  },
  {
   "cell_type": "code",
   "execution_count": null,
   "metadata": {},
   "outputs": [],
   "source": [
    "import math\n",
    "T = range(100)\n",
    "X = [(2 * math.pi * t) / len(T) for t in T]\n",
    "Y = [math.sin(value) for value in X]\n",
    "sns.lineplot(X, Y)"
   ]
  },
  {
   "cell_type": "code",
   "execution_count": null,
   "metadata": {},
   "outputs": [],
   "source": [
    "A = np.random.standard_normal((100, 2))\n",
    "A += np.array((-1, -1)) # Center the distrib. at <-1, -1>\n",
    "A = pd.DataFrame(A, columns=['num1', 'num2'])\n",
    "A['type'] = 'A'\n",
    "B = np.random.standard_normal((100, 2))\n",
    "B += np.array((1, 1)) # Center the distrib. at <1, 1>\n",
    "B = pd.DataFrame(B, columns=['num1', 'num2'])\n",
    "B['type'] = 'B'\n",
    "data = pd.concat([A,B])\n",
    "\n",
    "sns.scatterplot(data=data, x=\"num1\", y=\"num2\", hue=\"type\")"
   ]
  },
  {
   "cell_type": "markdown",
   "metadata": {
    "collapsed": true
   },
   "source": [
    "---"
   ]
  },
  {
   "cell_type": "markdown",
   "metadata": {},
   "source": [
    "**Ejercicio.** Construya una gráfica similar a la siguiente usando el archivo `indicadores-mundiales.csv`. Se grafica la suma del porcetaje de la población por regiones.\n",
    "\n",
    "![alt text](images/suma-pob-region-edades-1.png)"
   ]
  },
  {
   "cell_type": "code",
   "execution_count": null,
   "metadata": {},
   "outputs": [],
   "source": [
    "f, axes = plt.subplots(1, 3, figsize=(20, 6))\n",
    "\n",
    "for i, col in enumerate(['Poblacion 0-14','Poblacion 15-64', 'Poblacion 65+']):\n",
    "    sns.barplot(data=im, y='Region', x=col, ax=axes[i])"
   ]
  },
  {
   "cell_type": "markdown",
   "metadata": {},
   "source": [
    "**Ejercicio.** Construya una gráfica similar a la siguiente usando el archivo `indicadores-mundiales.csv`. Se grafica la suma del porcetaje de la población por regiones.\n",
    "\n",
    "<img src=\"images/suma-pob-region-edades-2.png\" width=700>"
   ]
  },
  {
   "cell_type": "markdown",
   "metadata": {},
   "source": [
    "**Ejercicio.** Construya una gráfica similar a la siguiente usando el archivo `indicadores-mundiales.csv`. Se grafica la suma del porcetaje de la población por regiones.\n",
    "\n",
    "<img src=\"images/suma-pob-region-edades-3.png\" width=600>"
   ]
  },
  {
   "cell_type": "markdown",
   "metadata": {},
   "source": [
    "**Ejercicio.** Construya una gráfica similar a la siguiente usando el archivo `indicadores-mundiales.csv`. Promedio de gastos per capita por año.\n",
    "\n",
    "<img src=\"images/prom-gastos-salud-per-capita-ano.png\" width=400>"
   ]
  },
  {
   "cell_type": "markdown",
   "metadata": {},
   "source": [
    "## Visualización de Iris con Seaborn"
   ]
  },
  {
   "cell_type": "code",
   "execution_count": null,
   "metadata": {},
   "outputs": [],
   "source": [
    "iris = pd.read_csv(\"files/iris.csv\") # the iris dataset is now a Pandas DataFrame\n",
    "iris.head()"
   ]
  },
  {
   "cell_type": "code",
   "execution_count": null,
   "metadata": {},
   "outputs": [],
   "source": [
    "# Let's see how many examples we have of each species\n",
    "iris[\"Species\"].value_counts()"
   ]
  },
  {
   "cell_type": "code",
   "execution_count": null,
   "metadata": {},
   "outputs": [],
   "source": [
    "# We can also use the seaborn library to make a similar plot\n",
    "# A seaborn jointplot shows bivariate scatterplots and univariate histograms in the same figure\n",
    "sns.jointplot(x=\"Sepal_Length\", y=\"Sepal_Width\", data=iris, size=5)"
   ]
  },
  {
   "cell_type": "code",
   "execution_count": null,
   "metadata": {},
   "outputs": [],
   "source": [
    "# One piece of information missing in the plots above is what species each plant is\n",
    "# We'll use seaborn's FacetGrid to color the scatterplot by species\n",
    "sns.FacetGrid(iris, hue=\"Species\", size=5) \\\n",
    "   .map(plt.scatter, \"Sepal_Length\", \"Sepal_Width\") \\\n",
    "   .add_legend()"
   ]
  },
  {
   "cell_type": "code",
   "execution_count": null,
   "metadata": {},
   "outputs": [],
   "source": [
    "# We can look at an individual feature in Seaborn through a boxplot\n",
    "sns.boxplot(x=\"Species\", y=\"Petal_Length\", data=iris)"
   ]
  },
  {
   "cell_type": "code",
   "execution_count": null,
   "metadata": {},
   "outputs": [],
   "source": [
    "# One way we can extend this plot is adding a layer of individual points on top of\n",
    "# it through Seaborn's striplot\n",
    "# \n",
    "# We'll use jitter=True so that all the points don't fall in single vertical lines\n",
    "# above the species\n",
    "#\n",
    "# Saving the resulting axes as ax each time causes the resulting plot to be shown\n",
    "# on top of the previous axes\n",
    "ax = sns.boxplot(x=\"Species\", y=\"Petal_Length\", data=iris)\n",
    "ax = sns.stripplot(x=\"Species\", y=\"Petal_Length\", data=iris, jitter=True, edgecolor=\"gray\")"
   ]
  },
  {
   "cell_type": "code",
   "execution_count": null,
   "metadata": {},
   "outputs": [],
   "source": [
    "# A violin plot combines the benefits of the previous two plots and simplifies them\n",
    "# Denser regions of the data are fatter, and sparser thiner in a violin plot\n",
    "sns.violinplot(x=\"Species\", y=\"Petal_Length\", data=iris, size=6)"
   ]
  },
  {
   "cell_type": "code",
   "execution_count": null,
   "metadata": {},
   "outputs": [],
   "source": [
    "# A final seaborn plot useful for looking at univariate relations is the kdeplot,\n",
    "# which creates and visualizes a kernel density estimate of the underlying feature\n",
    "sns.FacetGrid(iris, hue=\"Species\", size=6) \\\n",
    "   .map(sns.kdeplot, \"Petal_Length\") \\\n",
    "   .add_legend()"
   ]
  },
  {
   "cell_type": "code",
   "execution_count": null,
   "metadata": {},
   "outputs": [],
   "source": [
    "# Another useful seaborn plot is the pairplot, which shows the bivariate relation\n",
    "# between each pair of features\n",
    "# \n",
    "# From the pairplot, we'll see that the Iris-setosa species is separataed from the other\n",
    "# two across all feature combinations\n",
    "sns.pairplot(iris, hue=\"Species\", size=3)"
   ]
  },
  {
   "cell_type": "code",
   "execution_count": null,
   "metadata": {},
   "outputs": [],
   "source": [
    "# The diagonal elements in a pairplot show the histogram by default\n",
    "# We can update these elements to show other things, such as a kde\n",
    "sns.pairplot(iris, hue=\"Species\", size=3, diag_kind=\"kde\")"
   ]
  },
  {
   "cell_type": "code",
   "execution_count": null,
   "metadata": {},
   "outputs": [],
   "source": [
    "# Now that we've covered seaborn, let's go back to some of the ones we can make with Pandas\n",
    "# We can quickly make a boxplot with Pandas on each feature split out by species\n",
    "iris.boxplot(by=\"Species\", figsize=(12, 6))"
   ]
  },
  {
   "cell_type": "code",
   "execution_count": null,
   "metadata": {},
   "outputs": [],
   "source": [
    "# One cool more sophisticated technique pandas has available is called Andrews Curves\n",
    "# Andrews Curves involve using attributes of samples as coefficients for Fourier series\n",
    "# and then plotting these\n",
    "\n",
    "andrews_curves(iris, \"Species\")"
   ]
  },
  {
   "cell_type": "code",
   "execution_count": null,
   "metadata": {},
   "outputs": [],
   "source": [
    "# Another multivariate visualization technique pandas has is parallel_coordinates\n",
    "# Parallel coordinates plots each feature on a separate column & then draws lines\n",
    "# connecting the features for each data sample\n",
    "\n",
    "parallel_coordinates(iris, \"Species\")"
   ]
  },
  {
   "cell_type": "code",
   "execution_count": null,
   "metadata": {},
   "outputs": [],
   "source": [
    "# A final multivariate visualization technique pandas has is radviz\n",
    "# Which puts each feature as a point on a 2D plane, and then simulates\n",
    "# having each sample attached to those points through a spring weighted\n",
    "# by the relative value for that feature\n",
    "\n",
    "radviz(iris, \"Species\")"
   ]
  },
  {
   "cell_type": "markdown",
   "metadata": {},
   "source": [
    "[Contenido](#Contenido)"
   ]
  }
 ],
 "metadata": {
  "kernelspec": {
   "display_name": "Python 3 (ipykernel)",
   "language": "python",
   "name": "python3"
  },
  "language_info": {
   "codemirror_mode": {
    "name": "ipython",
    "version": 3
   },
   "file_extension": ".py",
   "mimetype": "text/x-python",
   "name": "python",
   "nbconvert_exporter": "python",
   "pygments_lexer": "ipython3",
   "version": "3.8.12"
  }
 },
 "nbformat": 4,
 "nbformat_minor": 1
}
